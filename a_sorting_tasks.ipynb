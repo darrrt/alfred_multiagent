{
 "cells": [
  {
   "cell_type": "code",
   "execution_count": 2,
   "metadata": {},
   "outputs": [],
   "source": [
    "import json \n",
    "import numpy as np \n",
    "import os,sys "
   ]
  },
  {
   "cell_type": "code",
   "execution_count": 3,
   "metadata": {},
   "outputs": [],
   "source": [
    "root_path=\"/home/user/xsj/LLMTaskPlanning/alfred_multiagent/data/json_2.1.0/\"\n",
    "root_path_len=len(root_path)\n",
    "# filepaths=[]\n",
    "# for root, dirs,files in os.walk(root_path):\n",
    "#     for filename in files:\n",
    "#         if \"json\" in filename:\n",
    "#             filepaths.append(os.path.join(root,filename)[root_path_len:])\n",
    "#         # print(root,dirs,files)\n",
    "# # filepaths"
   ]
  },
  {
   "cell_type": "code",
   "execution_count": 4,
   "metadata": {},
   "outputs": [],
   "source": [
    "# scene_dict={}\n",
    "# for trail_path in filepaths:\n",
    "#     with open(os.path.join(root_path,trail_path),'r') as f :\n",
    "#         config=json.load(f)\n",
    "#     if not config[\"scene\"][\"floor_plan\"] in scene_dict.keys():\n",
    "#         scene_dict[config[\"scene\"][\"floor_plan\"]]=[]    \n",
    "#     scene_dict[config[\"scene\"][\"floor_plan\"]].append(trail_path)\n",
    "        "
   ]
  },
  {
   "cell_type": "code",
   "execution_count": 5,
   "metadata": {},
   "outputs": [],
   "source": [
    "# with open(os.path.join(root_path,'../../scene_dict.json'),'w') as f :\n",
    "#     f.write(json.dumps(scene_dict,sort_keys=False,indent=4,separators=(',',':')))\n",
    "with open(os.path.join(root_path,'../../scene_dict.json'),'r') as f :\n",
    "    scene_dict=json.load(f)"
   ]
  },
  {
   "cell_type": "code",
   "execution_count": 6,
   "metadata": {},
   "outputs": [
    {
     "data": {
      "text/plain": [
       "dict_keys(['FloorPlan9', 'FloorPlan315', 'FloorPlan29', 'FloorPlan215', 'FloorPlan226', 'FloorPlan404', 'FloorPlan425', 'FloorPlan325', 'FloorPlan30', 'FloorPlan1', 'FloorPlan8', 'FloorPlan14', 'FloorPlan26', 'FloorPlan206', 'FloorPlan329', 'FloorPlan7', 'FloorPlan413', 'FloorPlan20', 'FloorPlan19', 'FloorPlan2', 'FloorPlan27', 'FloorPlan11', 'FloorPlan6', 'FloorPlan320', 'FloorPlan321', 'FloorPlan330', 'FloorPlan21', 'FloorPlan418', 'FloorPlan203', 'FloorPlan18', 'FloorPlan427', 'FloorPlan209', 'FloorPlan326', 'FloorPlan414', 'FloorPlan211', 'FloorPlan213', 'FloorPlan23', 'FloorPlan25', 'FloorPlan4', 'FloorPlan5', 'FloorPlan301', 'FloorPlan314', 'FloorPlan426', 'FloorPlan309', 'FloorPlan216', 'FloorPlan225', 'FloorPlan401', 'FloorPlan423', 'FloorPlan422', 'FloorPlan16', 'FloorPlan217', 'FloorPlan319', 'FloorPlan24', 'FloorPlan310', 'FloorPlan222', 'FloorPlan403', 'FloorPlan15', 'FloorPlan12', 'FloorPlan402', 'FloorPlan415', 'FloorPlan428', 'FloorPlan13', 'FloorPlan302', 'FloorPlan312', 'FloorPlan208', 'FloorPlan229', 'FloorPlan429', 'FloorPlan412', 'FloorPlan328', 'FloorPlan327', 'FloorPlan28', 'FloorPlan228', 'FloorPlan17', 'FloorPlan204', 'FloorPlan305', 'FloorPlan223', 'FloorPlan207', 'FloorPlan230', 'FloorPlan316', 'FloorPlan409', 'FloorPlan220', 'FloorPlan227', 'FloorPlan430', 'FloorPlan304', 'FloorPlan221', 'FloorPlan322', 'FloorPlan317', 'FloorPlan214', 'FloorPlan318', 'FloorPlan406', 'FloorPlan405', 'FloorPlan307', 'FloorPlan408', 'FloorPlan3', 'FloorPlan421', 'FloorPlan410', 'FloorPlan224', 'FloorPlan212', 'FloorPlan417', 'FloorPlan210', 'FloorPlan22', 'FloorPlan311', 'FloorPlan202', 'FloorPlan407', 'FloorPlan201', 'FloorPlan416', 'FloorPlan323', 'FloorPlan218', 'FloorPlan411', 'FloorPlan303', 'FloorPlan419', 'FloorPlan205', 'FloorPlan313', 'FloorPlan420', 'FloorPlan306', 'FloorPlan324', 'FloorPlan308', 'FloorPlan10', 'FloorPlan219', 'FloorPlan424'])"
      ]
     },
     "execution_count": 6,
     "metadata": {},
     "output_type": "execute_result"
    }
   ],
   "source": [
    "scene_dict.keys()"
   ]
  },
  {
   "cell_type": "code",
   "execution_count": 7,
   "metadata": {},
   "outputs": [],
   "source": [
    "from ai2thor.controller import Controller"
   ]
  },
  {
   "cell_type": "code",
   "execution_count": null,
   "metadata": {},
   "outputs": [],
   "source": [
    "for scene_name in scene_dict.keys():\n",
    "    task_config={}\n",
    "    task_config[\"scene_name\"]=scene_name\n",
    "    task_config[\"objects\"]={}\n",
    "    task_config[\"turk_annotations\"]={}\n",
    "    controller = Controller(\n",
    "        agentMode=\"arm\",\n",
    "        agentCount=2,\n",
    "        visibilityDistance=1.5,\n",
    "        scene=scene_name,\n",
    "\n",
    "        # step sizes\n",
    "        # gridSize=self.gridSize,\n",
    "        snapToGrid=True,\n",
    "        rotateStepDegrees=90,\n",
    "\n",
    "        # image modalities\n",
    "        renderDepthImage=False,\n",
    "        renderInstanceSegmentation=False,\n",
    "\n",
    "        # camera properties\n",
    "        # width=player_screen_width,\n",
    "        # height=player_screen_height,\n",
    "        # x_display=x_display,\n",
    "        fieldOfView=90)\n",
    "    multiEvents = controller.step(action=\"GetRaablePositions\")\n",
    "    print(len(multiEvents.metadata[\"objects\"]))\n",
    "    all_object_name_in_ori_scene=set()\n",
    "    for obj in multiEvents.metadata[\"objects\"]:\n",
    "        task_config[\"objects\"][obj[\"objectId\"]]={\"name\":obj[\"name\"],\"objectType\":obj[\"objectType\"]}\n",
    "        all_object_name_in_ori_scene.add(obj[\"name\"])\n",
    "    tasks=scene_dict[scene_name]\n",
    "    for trial_path in tasks:\n",
    "        with open(os.path.join(root_path,trial_path),'r') as f:\n",
    "            trial=json.load(f)\n",
    "        # check 1, if all objects in the trial are in the original scene \n",
    "        check_pass=True\n",
    "        for object_poses in trial[\"scene\"][\"object_poses\"]:\n",
    "            if not object_poses[\"objectName\"] in all_object_name_in_ori_scene:\n",
    "                check_pass=False\n",
    "                break\n",
    "        if check_pass:\n",
    "            task_config[\"turk_annotations\"][trial_path]=trial[\"turk_annotations\"]\n",
    "            print(scene_name,trial_path)\n",
    "    with open(os.path.join(root_path,'../../multiagent_longtasks/{}.json'.format(scene_name)),'w') as f :\n",
    "        f.write(json.dumps(task_config,sort_keys=False,indent=4,separators=(',',':')))\n",
    "    "
   ]
  },
  {
   "cell_type": "code",
   "execution_count": null,
   "metadata": {},
   "outputs": [],
   "source": [
    "same_floor=scene_dict[\"FloorPlan325\"]"
   ]
  },
  {
   "cell_type": "code",
   "execution_count": null,
   "metadata": {},
   "outputs": [],
   "source": [
    "# object pose in the floor \n",
    "object_pose_dict={}\n",
    "object_name='Vase_afb1a602'\n",
    "for trial_path in same_floor:\n",
    "    with open(os.path.join(root_path,trial_path),'r') as f:\n",
    "        trial=json.load(f)\n",
    "    for obj in trial['scene']['object_poses']:\n",
    "        if obj[\"objectName\"] == object_name:\n",
    "            object_pose_dict[trial_path]=obj\n",
    "object_pose_dict"
   ]
  },
  {
   "cell_type": "code",
   "execution_count": null,
   "metadata": {},
   "outputs": [],
   "source": [
    "same_floor_object_name={}\n",
    "for trial_path in same_floor:\n",
    "    with open(os.path.join(root_path,trial_path),'r') as f:\n",
    "        trial=json.load(f)\n",
    "    for obj in trial['scene']['object_poses']:\n",
    "        if not obj['objectName'] in same_floor_object_name.keys(): \n",
    "            same_floor_object_name[obj['objectName']]={}\n",
    "        if not trial_path in same_floor_object_name[obj['objectName']].keys():\n",
    "            same_floor_object_name[obj['objectName']][trial_path]=0\n",
    "        same_floor_object_name[obj['objectName']][trial_path]+=1\n",
    "same_floor_object_name"
   ]
  }
 ],
 "metadata": {
  "kernelspec": {
   "display_name": "base",
   "language": "python",
   "name": "python3"
  },
  "language_info": {
   "codemirror_mode": {
    "name": "ipython",
    "version": 3
   },
   "file_extension": ".py",
   "mimetype": "text/x-python",
   "name": "python",
   "nbconvert_exporter": "python",
   "pygments_lexer": "ipython3",
   "version": "3.11.5"
  }
 },
 "nbformat": 4,
 "nbformat_minor": 2
}
