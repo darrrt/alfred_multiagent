{
 "cells": [
  {
   "cell_type": "markdown",
   "metadata": {},
   "source": [
    "Kitchens:  FloorPlan [ 1 : 20 ] FloorPlan[1:20] \n",
    "\n",
    "Living Rooms:  FloorPlan [ 201 : 220 ] FloorPlan[201:220] \n",
    "\n",
    "Bedrooms:  FloorPlan [ 301 : 320 ] FloorPlan[301:320] \n",
    "\n",
    "Bathrooms:  FloorPlan [ 401 : 420 ] FloorPlan[401:420]"
   ]
  },
  {
   "cell_type": "code",
   "execution_count": 1,
   "metadata": {},
   "outputs": [],
   "source": [
    "import json \n",
    "import numpy as np \n",
    "import os,sys \n",
    "import re \n",
    "import time \n",
    "\n",
    "from ai2thor.controller import Controller\n",
    "from NL2HLTLtaskPlanner import utils as util"
   ]
  },
  {
   "cell_type": "code",
   "execution_count": 2,
   "metadata": {},
   "outputs": [],
   "source": [
    "root_path=\"/home/user/xsj/LLMTaskPlanning/alfred_multiagent/data/json_2.1.0/\"\n",
    "root_path_modified=\"/home/user/xsj/LLMTaskPlanning/alfred_multiagent/task_wo_position/\"\n",
    "root_path_len=len(root_path)\n",
    "# with open(os.path.join(root_path,'../../scene_dict.json'),'w') as f :\n",
    "#     f.write(json.dumps(scene_dict,sort_keys=False,indent=4,separators=(',',':')))\n",
    "with open(os.path.join(root_path,'../../scene_dict.json'),'r') as f :\n",
    "    scene_dict=json.load(f)"
   ]
  },
  {
   "cell_type": "code",
   "execution_count": null,
   "metadata": {},
   "outputs": [],
   "source": [
    "max_tasks_per_env=5\n",
    "max_tasks_composed=10\n",
    "np.random.seed(42)\n",
    "\n",
    "for scene_name in scene_dict.keys():\n",
    "    with open(os.path.join(root_path,'../../multiagent_longtasks/{}.json'.format(scene_name)),'r') as f :\n",
    "        task_config=json.load(f)\n",
    "    for n_task in range(2,max_tasks_composed):\n",
    "        if \"tasks_{}\".format(n_task) in task_config.keys():\n",
    "            task_lists=task_config[\"tasks_{}\".format(n_task)]\n",
    "            count+=len(task_lists)\n",
    "print(count)"
   ]
  }
 ],
 "metadata": {
  "kernelspec": {
   "display_name": "base",
   "language": "python",
   "name": "python3"
  },
  "language_info": {
   "codemirror_mode": {
    "name": "ipython",
    "version": 3
   },
   "file_extension": ".py",
   "mimetype": "text/x-python",
   "name": "python",
   "nbconvert_exporter": "python",
   "pygments_lexer": "ipython3",
   "version": "3.11.5"
  }
 },
 "nbformat": 4,
 "nbformat_minor": 2
}
